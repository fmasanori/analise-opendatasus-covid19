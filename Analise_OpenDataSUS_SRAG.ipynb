{
 "cells": [
  {
   "cell_type": "markdown",
   "metadata": {},
   "source": [
    "**Aviso Legal: Este notebook tem um fim única e exclusivamente didático, para alunos da FATEC, como uma introdução à Análise de Dados Públicos. Desse modo, está excluída a garantia ou responsabilidade de qualquer tipo, por exemplo, de precisão, confiabilidade, completude e atualidade das informações.**\n",
    "\n",
    "Fonte dos dados : https://opendatasus.saude.gov.br/dataset/bd-srag-2020\n",
    "\n"
   ]
  },
  {
   "cell_type": "code",
   "execution_count": 1,
   "metadata": {},
   "outputs": [],
   "source": [
    "import pandas as pd\n",
    "import xlrd\n",
    "import numpy as np\n",
    "import plotly.offline as py\n",
    "import plotly.graph_objs as go\n",
    "import os\n",
    "import shutil\n",
    "from pathlib import Path\n",
    "import pathlib\n",
    "import time"
   ]
  },
  {
   "cell_type": "code",
   "execution_count": 2,
   "metadata": {},
   "outputs": [
    {
     "data": {
      "text/html": [
       "        <script type=\"text/javascript\">\n",
       "        window.PlotlyConfig = {MathJaxConfig: 'local'};\n",
       "        if (window.MathJax) {MathJax.Hub.Config({SVG: {font: \"STIX-Web\"}});}\n",
       "        if (typeof require !== 'undefined') {\n",
       "        require.undef(\"plotly\");\n",
       "        requirejs.config({\n",
       "            paths: {\n",
       "                'plotly': ['https://cdn.plot.ly/plotly-latest.min']\n",
       "            }\n",
       "        });\n",
       "        require(['plotly'], function(Plotly) {\n",
       "            window._Plotly = Plotly;\n",
       "        });\n",
       "        }\n",
       "        </script>\n",
       "        "
      ]
     },
     "metadata": {},
     "output_type": "display_data"
    }
   ],
   "source": [
    "### Iniciando o modo offline do Plotly\n",
    "py.init_notebook_mode(connected=True)"
   ]
  },
  {
   "cell_type": "code",
   "execution_count": 3,
   "metadata": {},
   "outputs": [],
   "source": [
    "### Caso a pasta para armazenar as imagens e htmls não exista é criada \n",
    "if not os.path.exists(\"images\"):\n",
    "    os.mkdir(\"images\")"
   ]
  },
  {
   "cell_type": "code",
   "execution_count": 4,
   "metadata": {},
   "outputs": [
    {
     "name": "stderr",
     "output_type": "stream",
     "text": [
      "d:\\mylib\\pessoal\\estudos\\fatec\\bd\\6semestre\\bd_nao_estruturado\\analise-dados-publicos-covid19\\venv\\lib\\site-packages\\IPython\\core\\interactiveshell.py:3062: DtypeWarning:\n",
      "\n",
      "Columns (18,119) have mixed types.Specify dtype option on import or set low_memory=False.\n",
      "\n"
     ]
    }
   ],
   "source": [
    "### Declarando as colunas que serão utilizadas\n",
    "cols = ['SEM_NOT', 'DT_NOTIFIC', 'SG_UF_NOT', 'CS_SEXO', 'DT_NASC', 'NU_IDADE_N', 'TP_IDADE', 'CS_GESTANT', 'CS_RACA', 'CS_ETINIA', 'CS_ESCOL_N', 'SG_UF', 'CLASSI_FIN', 'NOSOCOMIAL', 'FEBRE', 'TOSSE', 'GARGANTA', 'DISPNEIA', 'DESC_RESP', 'SATURACAO', 'DIARREIA', 'VOMITO', 'OUTRO_SIN', 'OUTRO_DES', 'CLASSI_OUT', 'EVOLUCAO', 'PCR_RESUL', 'DS_IF_OUT','IF_RESUL','PCR_SARS2','DS_PCR_OUT','PCR_OUTRO']\n",
    "\n",
    "### Abrindo arquivo\n",
    "df = pd.read_csv(r'arquivos\\INFLUD-23-06-2020.csv', usecols=cols, delimiter=';', encoding='ISO-8859-1')"
   ]
  },
  {
   "cell_type": "code",
   "execution_count": 5,
   "metadata": {},
   "outputs": [],
   "source": [
    "# Tabelas de microdados usam números, faço a correspondência desses números com seus significados\n",
    "troca_pcr_res = {1:'Detectável', 2:'Não Detectável', 3:'Inconclusivo',4:'Aguardando Resultado', 5:'Aguardando Resultado', 9:'Ignorado'}\n",
    "troca_if_res = {1:'Positivo', 2:'Negativo', 3:'Inconclusivo',4:'Não Realizado', 5:'Aguardando', 9:'Ignorado'}\n",
    "troca_raca = {1:'Branca', 2:'Preta', 3:'Amarela', 4:'Parda', 5:'Indígena', 9:'Ignorado'}\n",
    "troca_escolaridade = {0:'Sem', 1:'Fund1', 2:'Fund2', 3:'Médio', 4:'Superior', 5:'Não se aplica', 9:'Ignorado'}\n",
    "troca_evolucao  = {1:'Cura', 2:'Óbito', 9:'Ignorado'}\n",
    "\n",
    "#Trocando valores vazios para ignorados\n",
    "df.loc[(df.CS_RACA.isnull()), 'CS_RACA'] = 9\n",
    "df.loc[(df.CS_ESCOL_N.isnull()), 'CS_ESCOL_N'] = 9\n",
    "df.loc[(df.PCR_RESUL.isnull()), 'PCR_RESUL'] = 9\n",
    "df.loc[(df.IF_RESUL.isnull()), 'IF_RESUL'] = 9\n",
    "df.loc[(df.EVOLUCAO.isnull()), 'EVOLUCAO'] = 9\n",
    "\n",
    "#Aplicando os valores do dicionario de dados\n",
    "df['CS_RACA'] = df['CS_RACA'].apply(lambda x: troca_raca[x])\n",
    "df['CS_ESCOL_N'] = df['CS_ESCOL_N'].apply(lambda x: troca_escolaridade[x])\n",
    "df['PCR_RESUL'] = df['PCR_RESUL'].apply(lambda x: troca_pcr_res[x])\n",
    "df['IF_RESUL'] = df['IF_RESUL'].apply(lambda x: troca_if_res[x])\n",
    "df['EVOLUCAO'] = df['EVOLUCAO'].apply(lambda x: troca_evolucao[x])\n",
    "\n",
    "df.SEM_NOT = df.SEM_NOT.apply(pd.to_numeric, errors='coerce')\n",
    "df['DT_NOTIFIC'].dropna(inplace=True)\n",
    "\n"
   ]
  },
  {
   "cell_type": "code",
   "execution_count": 6,
   "metadata": {},
   "outputs": [],
   "source": [
    "#filtra os valores relacionados a COVID-19\n",
    "df = df.query(\"CLASSI_FIN == 5 or CLASSI_OUT.str.contains('CORONA|COVID|COV|SARS|19') or DS_IF_OUT.str.contains('COV|SARS|CORONA') or DS_PCR_OUT.str.contains('COVID|SARS|COV2|19')\", engine='python')"
   ]
  },
  {
   "cell_type": "code",
   "execution_count": 7,
   "metadata": {},
   "outputs": [],
   "source": [
    "### Visualização de contágios por região\n",
    "semana  = df.groupby('SEM_NOT').size().to_dict()\n",
    "\n",
    "data = go.Bar(x = [*semana.keys()],\n",
    "              y = [*semana.values()] )\n",
    "\n",
    "layout = go.Layout(title='Total de contágios por semana',\n",
    "                   yaxis={'title':'Quantidade'},\n",
    "                   xaxis={'title': 'Semana'})\n",
    "\n",
    "fig = go.Figure(data=data, layout=layout)\n",
    "\n",
    "### Gerando imagem do grafico\n",
    "### O Plotly vai abrir o HTML numa nova aba e baixar o arquivo .png\n",
    "py.plot(fig, image='png',image_filename='graf-semana', output_type='file', image_width=1000, image_height=500, filename='images/graf-semana.html', validate=False)\n",
    "\n",
    "\n",
    "### Esperando gerar o arquivo\n",
    "#time.sleep(3)\n",
    "\n",
    "### Movemos o arquivo para nossa pasta do repositorio a fim de inserir a exibição de forma estática\n",
    "#downloads_path = str(Path.home() / \"Downloads/graf-semana.png\")\n",
    "#destination = os.path.abspath('') + r'\\images' \n",
    "#shutil.move(downloads_path, destination)"
   ]
  },
  {
   "cell_type": "markdown",
   "metadata": {},
   "source": [
    "![Semana](./images/graf-semana.png)\n",
    "\n",
    "Obs.: A última semana deve ser ignorada, pois o fechamento do arquivo se dá antes da conclusão da semana e por isso os dados estão incompletos"
   ]
  },
  {
   "cell_type": "code",
   "execution_count": 8,
   "metadata": {},
   "outputs": [
    {
     "data": {
      "text/plain": [
       "'images/graf-regiao.html'"
      ]
     },
     "execution_count": 8,
     "metadata": {},
     "output_type": "execute_result"
    }
   ],
   "source": [
    "### Visualização de contágios por região\n",
    "regiao = df.groupby('SG_UF_NOT').size().to_dict()\n",
    "\n",
    "data = go.Bar(x = [*regiao.keys()],\n",
    "              y = [*regiao.values()] )\n",
    "\n",
    "layout = go.Layout(title='Total de contágios por região',\n",
    "                   yaxis={'title':'Quantidade'},\n",
    "                   xaxis={'title': 'UF'})\n",
    "\n",
    "fig = go.Figure(data=data, layout=layout)\n",
    "\n",
    "### Gerando imagem do grafico\n",
    "### O Plotly vai abrir o HTML numa nova aba e baixar o arquivo .png\n",
    "py.plot(fig, image='png',image_filename='graf-regiao', output_type='file', image_width=1000, image_height=500, filename='images/graf-regiao.html', validate=False)\n",
    "\n",
    "### Esperando gerar o arquivo\n",
    "#time.sleep(3)\n",
    "\n",
    "### Movemos o arquivo para nossa pasta do repositorio a fim de inserir a exibição de forma estática\n",
    "#downloads_path = str(Path.home() / \"Downloads/graf-regiao.png\")\n",
    "#destination = os.path.abspath('') + r'\\images' \n",
    "#shutil.move(downloads_path, destination)"
   ]
  },
  {
   "cell_type": "markdown",
   "metadata": {},
   "source": [
    "![Região](./images/graf-regiao.png)"
   ]
  },
  {
   "cell_type": "code",
   "execution_count": 9,
   "metadata": {},
   "outputs": [
    {
     "data": {
      "text/plain": [
       "'images/graf-raca.html'"
      ]
     },
     "execution_count": 9,
     "metadata": {},
     "output_type": "execute_result"
    }
   ],
   "source": [
    "### Visualização de contágios entre os sexos por raça\n",
    "raca = df.groupby('CS_RACA').size().to_dict()\n",
    "data = df.groupby(['CS_RACA', 'CS_SEXO']).size().reset_index(name='TOTAL')\n",
    "labels = [*raca.keys()]\n",
    "\n",
    "### Separando as quantidades por sexo\n",
    "fem = data.query('CS_SEXO == \"F\"')['TOTAL'].to_list()\n",
    "masc = data.query('CS_SEXO == \"M\"')['TOTAL'].to_list()\n",
    "\n",
    "### Gerando o gráfico\n",
    "layout = go.Layout(title='Total de contágios por sexo e raça')\n",
    "\n",
    "fig = go.Figure(data=[\n",
    "    go.Bar(name='Mulher', x=labels, y=fem),\n",
    "    go.Bar(name='Homem', x=labels, y=masc)], layout=layout)\n",
    "\n",
    "fig.update_layout(barmode='group')\n",
    "\n",
    "\n",
    "### Gerando imagem do grafico\n",
    "### O Plotly vai abrir o HTML numa nova aba e baixar o arquivo .png\n",
    "py.plot(fig, image='png',image_filename='graf-raca', output_type='file', image_width=1000, image_height=500, filename='images/graf-raca.html', validate=False)\n",
    "\n",
    "### Esperando gerar o arquivo\n",
    "#time.sleep(3)\n",
    "\n",
    "### Movemos o arquivo para nossa pasta do repositorio a fim de inserir a exibição de forma estática\n",
    "#downloads_path = str(Path.home() / \"Downloads/graf-raca.png\")\n",
    "#destination = os.path.abspath('') + r'\\images' \n",
    "#shutil.move(downloads_path, destination)\n",
    "\n",
    "\n"
   ]
  },
  {
   "cell_type": "markdown",
   "metadata": {},
   "source": [
    "![Raça](./images/graf-raca.png)"
   ]
  },
  {
   "cell_type": "code",
   "execution_count": 10,
   "metadata": {},
   "outputs": [
    {
     "data": {
      "text/plain": [
       "'images/graf-raca-escol.html'"
      ]
     },
     "execution_count": 10,
     "metadata": {},
     "output_type": "execute_result"
    }
   ],
   "source": [
    "### Visualização de contágios entre as raça e nível de escolaridade\n",
    "raca = df.groupby('CS_RACA').size().to_dict()\n",
    "data = df.groupby(['CS_RACA', 'CS_ESCOL_N']).size().reset_index(name='TOTAL')\n",
    "labels = [*raca.keys()]\n",
    "\n",
    "### Separando as quantidades por sexo\n",
    "basico = data.query(\"CS_ESCOL_N in('Fund1','Fund2','Médio')\")['TOTAL'].to_list()\n",
    "superior = data.query('CS_ESCOL_N == \"Superior\"')['TOTAL'].to_list()\n",
    "\n",
    "### Gerando o gráfico\n",
    "layout = go.Layout(title='Total de contágios por raça e nível de escolaridade')\n",
    "\n",
    "fig = go.Figure(data=[\n",
    "    go.Bar(name='Educação básica', x=labels, y=basico),\n",
    "    go.Bar(name='Educação superior', x=labels, y=superior)], layout=layout)\n",
    "\n",
    "fig.update_layout(barmode='group')\n",
    "\n",
    "\n",
    "### Gerando imagem do grafico\n",
    "### O Plotly vai abrir o HTML numa nova aba e baixar o arquivo .png\n",
    "py.plot(fig, image='png',image_filename='graf-raca-escol', output_type='file', image_width=1000, image_height=500, filename='images/graf-raca-escol.html', validate=False)\n",
    "\n",
    "### Esperando gerar o arquivo\n",
    "#time.sleep(3)\n",
    "\n",
    "### Movemos o arquivo para nossa pasta do repositorio a fim de inserir a exibição de forma estática\n",
    "#downloads_path = str(Path.home() / \"Downloads/graf-raca.png\")\n",
    "#destination = os.path.abspath('') + r'\\images' \n",
    "#shutil.move(downloads_path, destination)\n",
    "\n"
   ]
  },
  {
   "cell_type": "markdown",
   "metadata": {},
   "source": [
    "![Raça e Escolaridade](./images/graf-raca-escol.png)"
   ]
  },
  {
   "cell_type": "code",
   "execution_count": 11,
   "metadata": {},
   "outputs": [
    {
     "data": {
      "text/plain": [
       "'images/graf-evolucao.html'"
      ]
     },
     "execution_count": 11,
     "metadata": {},
     "output_type": "execute_result"
    }
   ],
   "source": [
    "### Visualização da evolução do caso nas regiões\n",
    "uf = df.groupby('SG_UF_NOT').size().to_dict()\n",
    "data = df.groupby(['SG_UF_NOT', 'EVOLUCAO']).size().reset_index(name='TOTAL')\n",
    "labels = [*uf.keys()]\n",
    "\n",
    "### Separando as quantidades por sexo\n",
    "cura = data.query(\"EVOLUCAO == 'Cura' \")['TOTAL'].to_list()\n",
    "obito = data.query('EVOLUCAO == \"Óbito\"')['TOTAL'].to_list()\n",
    "\n",
    "### Gerando o gráfico\n",
    "layout = go.Layout(title='Evolução do caso por região')\n",
    "\n",
    "fig = go.Figure(data=[\n",
    "    go.Scatter(name='Cura', x=labels, y=cura, line_shape='spline'),\n",
    "    go.Scatter(name='Óbito', x=labels, y=obito, line_shape='spline')], layout=layout)\n",
    "\n",
    "fig.update_layout(barmode='group')\n",
    "\n",
    "\n",
    "### Gerando imagem do grafico\n",
    "### O Plotly vai abrir o HTML numa nova aba e baixar o arquivo .png\n",
    "py.plot(fig, image='png',image_filename='graf-evolucao', output_type='file', image_width=1000, image_height=500, filename='images/graf-evolucao.html', validate=False)\n",
    "\n",
    "\n",
    "### Esperando gerar o arquivo\n",
    "#time.sleep(3)\n",
    "\n",
    "### Movemos o arquivo para nossa pasta do repositorio a fim de inserir a exibição de forma estática\n",
    "#downloads_path = str(Path.home() / \"Downloads/graf-raca.png\")\n",
    "#destination = os.path.abspath('') + r'\\images' \n",
    "#shutil.move(downloads_path, destination)\n",
    "\n"
   ]
  },
  {
   "cell_type": "markdown",
   "metadata": {},
   "source": [
    "![Evolução por UF](./images/graf-evolucao.png)"
   ]
  }
 ],
 "metadata": {
  "kernelspec": {
   "display_name": "Python 3",
   "language": "python",
   "name": "python3"
  },
  "language_info": {
   "codemirror_mode": {
    "name": "ipython",
    "version": 3
   },
   "file_extension": ".py",
   "mimetype": "text/x-python",
   "name": "python",
   "nbconvert_exporter": "python",
   "pygments_lexer": "ipython3",
   "version": "3.8.2"
  }
 },
 "nbformat": 4,
 "nbformat_minor": 4
}
